{
 "cells": [
  {
   "cell_type": "code",
   "execution_count": 78,
   "metadata": {},
   "outputs": [
    {
     "name": "stdout",
     "output_type": "stream",
     "text": [
      "    Name  Age  Gender  Test 1  Test 2  Test 3  Height  Weight\n",
      "0  Name1   56    Male     NaN    98.0    81.0     NaN    54.0\n",
      "1  Name2   46    Male     NaN    91.0    98.0   185.0    51.0\n",
      "2  Name3   32    Male    95.0    77.0    82.0   154.0    95.0\n",
      "3  Name4   25    Male    94.0    76.0    89.0   188.0    73.0\n",
      "4  Name5   38  Female    91.0    93.0     NaN   155.0    67.0\n"
     ]
    }
   ],
   "source": [
    "import pandas as pd\n",
    "import numpy as np\n",
    "import random\n",
    "\n",
    "# Set a random seed for reproducibility\n",
    "np.random.seed(42)\n",
    "\n",
    "# Generate synthetic data\n",
    "data = {\n",
    "    'Name': ['Name' + str(i) for i in range(1, 5001)],\n",
    "    'Age': np.random.randint(18, 60, 5000),\n",
    "    'Gender': random.choices(['Male', 'Female'], k=5000),\n",
    "    'Test 1': np.random.randint(60, 100, 5000),\n",
    "    'Test 2': np.random.randint(60, 100, 5000),\n",
    "    'Test 3': np.random.randint(60, 100, 5000),\n",
    "    'Height': np.random.randint(150, 200, 5000),\n",
    "    'Weight': np.random.randint(50, 100, 5000)\n",
    "}\n",
    "\n",
    "# Create a DataFrame\n",
    "df = pd.DataFrame(data)\n",
    "\n",
    "# Insert some missing values\n",
    "for col in 'Test 1', 'Test 2', 'Test 3', 'Height', 'Weight':\n",
    "    df.loc[df.sample(frac=0.1).index, col] = np.nan\n",
    "\n",
    "# Save the DataFrame to a CSV file\n",
    "df.to_csv('synthetic_data.csv', index=False)\n",
    "\n",
    "print(df.head())\n"
   ]
  },
  {
   "cell_type": "markdown",
   "metadata": {},
   "source": [
    "## Question 1"
   ]
  },
  {
   "cell_type": "code",
   "execution_count": 79,
   "metadata": {},
   "outputs": [],
   "source": [
    "Synthetic_data=pd.read_csv(\"synthetic_data.csv\")"
   ]
  },
  {
   "cell_type": "code",
   "execution_count": 80,
   "metadata": {},
   "outputs": [
    {
     "data": {
      "text/html": [
       "<div>\n",
       "<style scoped>\n",
       "    .dataframe tbody tr th:only-of-type {\n",
       "        vertical-align: middle;\n",
       "    }\n",
       "\n",
       "    .dataframe tbody tr th {\n",
       "        vertical-align: top;\n",
       "    }\n",
       "\n",
       "    .dataframe thead th {\n",
       "        text-align: right;\n",
       "    }\n",
       "</style>\n",
       "<table border=\"1\" class=\"dataframe\">\n",
       "  <thead>\n",
       "    <tr style=\"text-align: right;\">\n",
       "      <th></th>\n",
       "      <th>Name</th>\n",
       "      <th>Age</th>\n",
       "      <th>Gender</th>\n",
       "      <th>Test 1</th>\n",
       "      <th>Test 2</th>\n",
       "      <th>Test 3</th>\n",
       "      <th>Height</th>\n",
       "      <th>Weight</th>\n",
       "    </tr>\n",
       "  </thead>\n",
       "  <tbody>\n",
       "    <tr>\n",
       "      <th>0</th>\n",
       "      <td>Name1</td>\n",
       "      <td>56</td>\n",
       "      <td>Male</td>\n",
       "      <td>NaN</td>\n",
       "      <td>98.0</td>\n",
       "      <td>81.0</td>\n",
       "      <td>NaN</td>\n",
       "      <td>54.0</td>\n",
       "    </tr>\n",
       "    <tr>\n",
       "      <th>1</th>\n",
       "      <td>Name2</td>\n",
       "      <td>46</td>\n",
       "      <td>Male</td>\n",
       "      <td>NaN</td>\n",
       "      <td>91.0</td>\n",
       "      <td>98.0</td>\n",
       "      <td>185.0</td>\n",
       "      <td>51.0</td>\n",
       "    </tr>\n",
       "    <tr>\n",
       "      <th>2</th>\n",
       "      <td>Name3</td>\n",
       "      <td>32</td>\n",
       "      <td>Male</td>\n",
       "      <td>95.0</td>\n",
       "      <td>77.0</td>\n",
       "      <td>82.0</td>\n",
       "      <td>154.0</td>\n",
       "      <td>95.0</td>\n",
       "    </tr>\n",
       "    <tr>\n",
       "      <th>3</th>\n",
       "      <td>Name4</td>\n",
       "      <td>25</td>\n",
       "      <td>Male</td>\n",
       "      <td>94.0</td>\n",
       "      <td>76.0</td>\n",
       "      <td>89.0</td>\n",
       "      <td>188.0</td>\n",
       "      <td>73.0</td>\n",
       "    </tr>\n",
       "    <tr>\n",
       "      <th>4</th>\n",
       "      <td>Name5</td>\n",
       "      <td>38</td>\n",
       "      <td>Female</td>\n",
       "      <td>91.0</td>\n",
       "      <td>93.0</td>\n",
       "      <td>NaN</td>\n",
       "      <td>155.0</td>\n",
       "      <td>67.0</td>\n",
       "    </tr>\n",
       "    <tr>\n",
       "      <th>5</th>\n",
       "      <td>Name6</td>\n",
       "      <td>56</td>\n",
       "      <td>Female</td>\n",
       "      <td>99.0</td>\n",
       "      <td>98.0</td>\n",
       "      <td>77.0</td>\n",
       "      <td>194.0</td>\n",
       "      <td>76.0</td>\n",
       "    </tr>\n",
       "    <tr>\n",
       "      <th>6</th>\n",
       "      <td>Name7</td>\n",
       "      <td>36</td>\n",
       "      <td>Female</td>\n",
       "      <td>83.0</td>\n",
       "      <td>66.0</td>\n",
       "      <td>69.0</td>\n",
       "      <td>185.0</td>\n",
       "      <td>73.0</td>\n",
       "    </tr>\n",
       "    <tr>\n",
       "      <th>7</th>\n",
       "      <td>Name8</td>\n",
       "      <td>40</td>\n",
       "      <td>Male</td>\n",
       "      <td>76.0</td>\n",
       "      <td>94.0</td>\n",
       "      <td>98.0</td>\n",
       "      <td>194.0</td>\n",
       "      <td>78.0</td>\n",
       "    </tr>\n",
       "    <tr>\n",
       "      <th>8</th>\n",
       "      <td>Name9</td>\n",
       "      <td>28</td>\n",
       "      <td>Male</td>\n",
       "      <td>NaN</td>\n",
       "      <td>89.0</td>\n",
       "      <td>89.0</td>\n",
       "      <td>153.0</td>\n",
       "      <td>60.0</td>\n",
       "    </tr>\n",
       "    <tr>\n",
       "      <th>9</th>\n",
       "      <td>Name10</td>\n",
       "      <td>28</td>\n",
       "      <td>Male</td>\n",
       "      <td>NaN</td>\n",
       "      <td>71.0</td>\n",
       "      <td>85.0</td>\n",
       "      <td>159.0</td>\n",
       "      <td>97.0</td>\n",
       "    </tr>\n",
       "  </tbody>\n",
       "</table>\n",
       "</div>"
      ],
      "text/plain": [
       "     Name  Age  Gender  Test 1  Test 2  Test 3  Height  Weight\n",
       "0   Name1   56    Male     NaN    98.0    81.0     NaN    54.0\n",
       "1   Name2   46    Male     NaN    91.0    98.0   185.0    51.0\n",
       "2   Name3   32    Male    95.0    77.0    82.0   154.0    95.0\n",
       "3   Name4   25    Male    94.0    76.0    89.0   188.0    73.0\n",
       "4   Name5   38  Female    91.0    93.0     NaN   155.0    67.0\n",
       "5   Name6   56  Female    99.0    98.0    77.0   194.0    76.0\n",
       "6   Name7   36  Female    83.0    66.0    69.0   185.0    73.0\n",
       "7   Name8   40    Male    76.0    94.0    98.0   194.0    78.0\n",
       "8   Name9   28    Male     NaN    89.0    89.0   153.0    60.0\n",
       "9  Name10   28    Male     NaN    71.0    85.0   159.0    97.0"
      ]
     },
     "execution_count": 80,
     "metadata": {},
     "output_type": "execute_result"
    }
   ],
   "source": [
    "Synthetic_data.head(10)"
   ]
  },
  {
   "cell_type": "markdown",
   "metadata": {},
   "source": [
    "## Question 2"
   ]
  },
  {
   "cell_type": "code",
   "execution_count": 81,
   "metadata": {},
   "outputs": [
    {
     "data": {
      "text/plain": [
       "Name        0\n",
       "Age         0\n",
       "Gender      0\n",
       "Test 1    500\n",
       "Test 2    500\n",
       "Test 3    500\n",
       "Height    500\n",
       "Weight    500\n",
       "dtype: int64"
      ]
     },
     "execution_count": 81,
     "metadata": {},
     "output_type": "execute_result"
    }
   ],
   "source": [
    "Synthetic_data.isnull().sum()"
   ]
  },
  {
   "cell_type": "markdown",
   "metadata": {},
   "source": [
    "## Question 3"
   ]
  },
  {
   "cell_type": "code",
   "execution_count": 82,
   "metadata": {},
   "outputs": [],
   "source": [
    "Synthetic_data[\"Test 1\"]=Synthetic_data[\"Test 1\"].fillna(Synthetic_data[\"Test 1\"].mean())"
   ]
  },
  {
   "cell_type": "code",
   "execution_count": 83,
   "metadata": {},
   "outputs": [],
   "source": [
    "Synthetic_data[\"Test 2\"]=Synthetic_data[\"Test 2\"].fillna(Synthetic_data[\"Test 2\"].mean())"
   ]
  },
  {
   "cell_type": "code",
   "execution_count": 84,
   "metadata": {},
   "outputs": [],
   "source": [
    "Synthetic_data[\"Test 3\"]=Synthetic_data[\"Test 3\"].fillna(Synthetic_data[\"Test 3\"].mean())"
   ]
  },
  {
   "cell_type": "code",
   "execution_count": 85,
   "metadata": {},
   "outputs": [],
   "source": [
    "Synthetic_data[\"Height\"]=Synthetic_data[\"Height\"].fillna(Synthetic_data[\"Height\"].mean())"
   ]
  },
  {
   "cell_type": "code",
   "execution_count": 86,
   "metadata": {},
   "outputs": [],
   "source": [
    "Synthetic_data[\"Weight\"]=Synthetic_data[\"Weight\"].fillna(Synthetic_data[\"Weight\"].mean())"
   ]
  },
  {
   "cell_type": "code",
   "execution_count": 87,
   "metadata": {},
   "outputs": [
    {
     "data": {
      "text/plain": [
       "Name      0\n",
       "Age       0\n",
       "Gender    0\n",
       "Test 1    0\n",
       "Test 2    0\n",
       "Test 3    0\n",
       "Height    0\n",
       "Weight    0\n",
       "dtype: int64"
      ]
     },
     "execution_count": 87,
     "metadata": {},
     "output_type": "execute_result"
    }
   ],
   "source": [
    "Synthetic_data.isnull().sum()"
   ]
  },
  {
   "cell_type": "markdown",
   "metadata": {},
   "source": [
    "## Question 4"
   ]
  },
  {
   "cell_type": "code",
   "execution_count": 88,
   "metadata": {},
   "outputs": [],
   "source": [
    "Synthetic_data[\"Average\"]=(Synthetic_data[\"Test 1\"]+Synthetic_data[\"Test 2\"]+Synthetic_data[\"Test 3\"])/3"
   ]
  },
  {
   "cell_type": "code",
   "execution_count": 89,
   "metadata": {},
   "outputs": [
    {
     "data": {
      "text/html": [
       "<div>\n",
       "<style scoped>\n",
       "    .dataframe tbody tr th:only-of-type {\n",
       "        vertical-align: middle;\n",
       "    }\n",
       "\n",
       "    .dataframe tbody tr th {\n",
       "        vertical-align: top;\n",
       "    }\n",
       "\n",
       "    .dataframe thead th {\n",
       "        text-align: right;\n",
       "    }\n",
       "</style>\n",
       "<table border=\"1\" class=\"dataframe\">\n",
       "  <thead>\n",
       "    <tr style=\"text-align: right;\">\n",
       "      <th></th>\n",
       "      <th>Name</th>\n",
       "      <th>Age</th>\n",
       "      <th>Gender</th>\n",
       "      <th>Test 1</th>\n",
       "      <th>Test 2</th>\n",
       "      <th>Test 3</th>\n",
       "      <th>Height</th>\n",
       "      <th>Weight</th>\n",
       "      <th>Average</th>\n",
       "    </tr>\n",
       "  </thead>\n",
       "  <tbody>\n",
       "    <tr>\n",
       "      <th>0</th>\n",
       "      <td>Name1</td>\n",
       "      <td>56</td>\n",
       "      <td>Male</td>\n",
       "      <td>79.33</td>\n",
       "      <td>98.000000</td>\n",
       "      <td>81.000000</td>\n",
       "      <td>174.836889</td>\n",
       "      <td>54.0</td>\n",
       "      <td>86.110000</td>\n",
       "    </tr>\n",
       "    <tr>\n",
       "      <th>1</th>\n",
       "      <td>Name2</td>\n",
       "      <td>46</td>\n",
       "      <td>Male</td>\n",
       "      <td>79.33</td>\n",
       "      <td>91.000000</td>\n",
       "      <td>98.000000</td>\n",
       "      <td>185.000000</td>\n",
       "      <td>51.0</td>\n",
       "      <td>89.443333</td>\n",
       "    </tr>\n",
       "    <tr>\n",
       "      <th>2</th>\n",
       "      <td>Name3</td>\n",
       "      <td>32</td>\n",
       "      <td>Male</td>\n",
       "      <td>95.00</td>\n",
       "      <td>77.000000</td>\n",
       "      <td>82.000000</td>\n",
       "      <td>154.000000</td>\n",
       "      <td>95.0</td>\n",
       "      <td>84.666667</td>\n",
       "    </tr>\n",
       "    <tr>\n",
       "      <th>3</th>\n",
       "      <td>Name4</td>\n",
       "      <td>25</td>\n",
       "      <td>Male</td>\n",
       "      <td>94.00</td>\n",
       "      <td>76.000000</td>\n",
       "      <td>89.000000</td>\n",
       "      <td>188.000000</td>\n",
       "      <td>73.0</td>\n",
       "      <td>86.333333</td>\n",
       "    </tr>\n",
       "    <tr>\n",
       "      <th>4</th>\n",
       "      <td>Name5</td>\n",
       "      <td>38</td>\n",
       "      <td>Female</td>\n",
       "      <td>91.00</td>\n",
       "      <td>93.000000</td>\n",
       "      <td>79.104222</td>\n",
       "      <td>155.000000</td>\n",
       "      <td>67.0</td>\n",
       "      <td>87.701407</td>\n",
       "    </tr>\n",
       "    <tr>\n",
       "      <th>...</th>\n",
       "      <td>...</td>\n",
       "      <td>...</td>\n",
       "      <td>...</td>\n",
       "      <td>...</td>\n",
       "      <td>...</td>\n",
       "      <td>...</td>\n",
       "      <td>...</td>\n",
       "      <td>...</td>\n",
       "      <td>...</td>\n",
       "    </tr>\n",
       "    <tr>\n",
       "      <th>4995</th>\n",
       "      <td>Name4996</td>\n",
       "      <td>32</td>\n",
       "      <td>Male</td>\n",
       "      <td>84.00</td>\n",
       "      <td>96.000000</td>\n",
       "      <td>83.000000</td>\n",
       "      <td>166.000000</td>\n",
       "      <td>60.0</td>\n",
       "      <td>87.666667</td>\n",
       "    </tr>\n",
       "    <tr>\n",
       "      <th>4996</th>\n",
       "      <td>Name4997</td>\n",
       "      <td>36</td>\n",
       "      <td>Female</td>\n",
       "      <td>90.00</td>\n",
       "      <td>79.543111</td>\n",
       "      <td>97.000000</td>\n",
       "      <td>159.000000</td>\n",
       "      <td>64.0</td>\n",
       "      <td>88.847704</td>\n",
       "    </tr>\n",
       "    <tr>\n",
       "      <th>4997</th>\n",
       "      <td>Name4998</td>\n",
       "      <td>52</td>\n",
       "      <td>Male</td>\n",
       "      <td>96.00</td>\n",
       "      <td>99.000000</td>\n",
       "      <td>82.000000</td>\n",
       "      <td>153.000000</td>\n",
       "      <td>59.0</td>\n",
       "      <td>92.333333</td>\n",
       "    </tr>\n",
       "    <tr>\n",
       "      <th>4998</th>\n",
       "      <td>Name4999</td>\n",
       "      <td>34</td>\n",
       "      <td>Female</td>\n",
       "      <td>61.00</td>\n",
       "      <td>66.000000</td>\n",
       "      <td>64.000000</td>\n",
       "      <td>172.000000</td>\n",
       "      <td>91.0</td>\n",
       "      <td>63.666667</td>\n",
       "    </tr>\n",
       "    <tr>\n",
       "      <th>4999</th>\n",
       "      <td>Name5000</td>\n",
       "      <td>52</td>\n",
       "      <td>Female</td>\n",
       "      <td>92.00</td>\n",
       "      <td>98.000000</td>\n",
       "      <td>95.000000</td>\n",
       "      <td>163.000000</td>\n",
       "      <td>90.0</td>\n",
       "      <td>95.000000</td>\n",
       "    </tr>\n",
       "  </tbody>\n",
       "</table>\n",
       "<p>5000 rows × 9 columns</p>\n",
       "</div>"
      ],
      "text/plain": [
       "          Name  Age  Gender  Test 1     Test 2     Test 3      Height  Weight  \\\n",
       "0        Name1   56    Male   79.33  98.000000  81.000000  174.836889    54.0   \n",
       "1        Name2   46    Male   79.33  91.000000  98.000000  185.000000    51.0   \n",
       "2        Name3   32    Male   95.00  77.000000  82.000000  154.000000    95.0   \n",
       "3        Name4   25    Male   94.00  76.000000  89.000000  188.000000    73.0   \n",
       "4        Name5   38  Female   91.00  93.000000  79.104222  155.000000    67.0   \n",
       "...        ...  ...     ...     ...        ...        ...         ...     ...   \n",
       "4995  Name4996   32    Male   84.00  96.000000  83.000000  166.000000    60.0   \n",
       "4996  Name4997   36  Female   90.00  79.543111  97.000000  159.000000    64.0   \n",
       "4997  Name4998   52    Male   96.00  99.000000  82.000000  153.000000    59.0   \n",
       "4998  Name4999   34  Female   61.00  66.000000  64.000000  172.000000    91.0   \n",
       "4999  Name5000   52  Female   92.00  98.000000  95.000000  163.000000    90.0   \n",
       "\n",
       "        Average  \n",
       "0     86.110000  \n",
       "1     89.443333  \n",
       "2     84.666667  \n",
       "3     86.333333  \n",
       "4     87.701407  \n",
       "...         ...  \n",
       "4995  87.666667  \n",
       "4996  88.847704  \n",
       "4997  92.333333  \n",
       "4998  63.666667  \n",
       "4999  95.000000  \n",
       "\n",
       "[5000 rows x 9 columns]"
      ]
     },
     "execution_count": 89,
     "metadata": {},
     "output_type": "execute_result"
    }
   ],
   "source": [
    "Synthetic_data"
   ]
  },
  {
   "cell_type": "markdown",
   "metadata": {},
   "source": [
    "## Question 5"
   ]
  },
  {
   "cell_type": "code",
   "execution_count": 90,
   "metadata": {},
   "outputs": [
    {
     "data": {
      "text/plain": [
       "Gender\n",
       "Female    2505\n",
       "Male      2495\n",
       "Name: count, dtype: int64"
      ]
     },
     "execution_count": 90,
     "metadata": {},
     "output_type": "execute_result"
    }
   ],
   "source": [
    "Synthetic_data[\"Gender\"].value_counts()"
   ]
  },
  {
   "cell_type": "markdown",
   "metadata": {},
   "source": [
    "## Question 6"
   ]
  },
  {
   "cell_type": "code",
   "execution_count": 91,
   "metadata": {},
   "outputs": [
    {
     "data": {
      "text/html": [
       "<div>\n",
       "<style scoped>\n",
       "    .dataframe tbody tr th:only-of-type {\n",
       "        vertical-align: middle;\n",
       "    }\n",
       "\n",
       "    .dataframe tbody tr th {\n",
       "        vertical-align: top;\n",
       "    }\n",
       "\n",
       "    .dataframe thead th {\n",
       "        text-align: right;\n",
       "    }\n",
       "</style>\n",
       "<table border=\"1\" class=\"dataframe\">\n",
       "  <thead>\n",
       "    <tr style=\"text-align: right;\">\n",
       "      <th></th>\n",
       "      <th>Age</th>\n",
       "    </tr>\n",
       "    <tr>\n",
       "      <th>Gender</th>\n",
       "      <th></th>\n",
       "    </tr>\n",
       "  </thead>\n",
       "  <tbody>\n",
       "    <tr>\n",
       "      <th>Female</th>\n",
       "      <td>38.684232</td>\n",
       "    </tr>\n",
       "    <tr>\n",
       "      <th>Male</th>\n",
       "      <td>38.640080</td>\n",
       "    </tr>\n",
       "  </tbody>\n",
       "</table>\n",
       "</div>"
      ],
      "text/plain": [
       "              Age\n",
       "Gender           \n",
       "Female  38.684232\n",
       "Male    38.640080"
      ]
     },
     "execution_count": 91,
     "metadata": {},
     "output_type": "execute_result"
    }
   ],
   "source": [
    "pd.pivot_table(data=Synthetic_data,values=\"Age\",index=\"Gender\")"
   ]
  },
  {
   "cell_type": "markdown",
   "metadata": {},
   "source": [
    "## Question 7"
   ]
  },
  {
   "cell_type": "code",
   "execution_count": 92,
   "metadata": {},
   "outputs": [
    {
     "data": {
      "text/plain": [
       "3368    96.000000\n",
       "4540    96.333333\n",
       "745     96.333333\n",
       "3636    96.666667\n",
       "1177    96.666667\n",
       "4105    96.666667\n",
       "371     96.666667\n",
       "157     97.333333\n",
       "3152    97.333333\n",
       "4762    98.000000\n",
       "Name: Average, dtype: float64"
      ]
     },
     "execution_count": 92,
     "metadata": {},
     "output_type": "execute_result"
    }
   ],
   "source": [
    "Synthetic_data[\"Average\"].sort_values().tail(10)"
   ]
  },
  {
   "cell_type": "markdown",
   "metadata": {},
   "source": [
    "## Question 8"
   ]
  },
  {
   "cell_type": "code",
   "execution_count": 93,
   "metadata": {},
   "outputs": [],
   "source": [
    "import seaborn as sns"
   ]
  },
  {
   "cell_type": "code",
   "execution_count": 94,
   "metadata": {},
   "outputs": [
    {
     "data": {
      "image/png": "[encoded data removed]",
      "text/plain": [
       "<Figure size 640x480 with 1 Axes>"
      ]
     },
     "metadata": {},
     "output_type": "display_data"
    }
   ],
   "source": [
    "sns.histplot(data=Synthetic_data,x=\"Average\");"
   ]
  },
  {
   "cell_type": "markdown",
   "metadata": {},
   "source": [
    "## Question 9"
   ]
  },
  {
   "cell_type": "code",
   "execution_count": 95,
   "metadata": {},
   "outputs": [
    {
     "data": {
      "image/png": "[encoded data removed]",
      "text/plain": [
       "<Figure size 640x480 with 1 Axes>"
      ]
     },
     "metadata": {},
     "output_type": "display_data"
    }
   ],
   "source": [
    "sns.barplot(x=Synthetic_data[\"Gender\"].value_counts(),y=Synthetic_data[\"Gender\"].value_counts().index);"
   ]
  },
  {
   "cell_type": "markdown",
   "metadata": {},
   "source": [
    "## Question 10"
   ]
  },
  {
   "cell_type": "code",
   "execution_count": 96,
   "metadata": {},
   "outputs": [
    {
     "data": {
      "image/png": "[encoded data removed]",
      "text/plain": [
       "<Figure size 640x480 with 1 Axes>"
      ]
     },
     "metadata": {},
     "output_type": "display_data"
    }
   ],
   "source": [
    "sns.boxplot(Synthetic_data[\"Age\"]);"
   ]
  },
  {
   "cell_type": "markdown",
   "metadata": {},
   "source": [
    "## Question 11"
   ]
  },
  {
   "cell_type": "code",
   "execution_count": 97,
   "metadata": {},
   "outputs": [],
   "source": [
    "y=pd.pivot_table(data=Synthetic_data,index=\"Gender\",values=(\"Test 1\",\"Test 2\",\"Test 3\"))"
   ]
  },
  {
   "cell_type": "code",
   "execution_count": 98,
   "metadata": {},
   "outputs": [
    {
     "data": {
      "text/html": [
       "<div>\n",
       "<style scoped>\n",
       "    .dataframe tbody tr th:only-of-type {\n",
       "        vertical-align: middle;\n",
       "    }\n",
       "\n",
       "    .dataframe tbody tr th {\n",
       "        vertical-align: top;\n",
       "    }\n",
       "\n",
       "    .dataframe thead th {\n",
       "        text-align: right;\n",
       "    }\n",
       "</style>\n",
       "<table border=\"1\" class=\"dataframe\">\n",
       "  <thead>\n",
       "    <tr style=\"text-align: right;\">\n",
       "      <th></th>\n",
       "      <th>Test 1</th>\n",
       "      <th>Test 2</th>\n",
       "      <th>Test 3</th>\n",
       "    </tr>\n",
       "    <tr>\n",
       "      <th>Gender</th>\n",
       "      <th></th>\n",
       "      <th></th>\n",
       "      <th></th>\n",
       "    </tr>\n",
       "  </thead>\n",
       "  <tbody>\n",
       "    <tr>\n",
       "      <th>Female</th>\n",
       "      <td>79.398339</td>\n",
       "      <td>79.621320</td>\n",
       "      <td>79.046662</td>\n",
       "    </tr>\n",
       "    <tr>\n",
       "      <th>Male</th>\n",
       "      <td>79.261387</td>\n",
       "      <td>79.464589</td>\n",
       "      <td>79.162013</td>\n",
       "    </tr>\n",
       "  </tbody>\n",
       "</table>\n",
       "</div>"
      ],
      "text/plain": [
       "           Test 1     Test 2     Test 3\n",
       "Gender                                 \n",
       "Female  79.398339  79.621320  79.046662\n",
       "Male    79.261387  79.464589  79.162013"
      ]
     },
     "execution_count": 98,
     "metadata": {},
     "output_type": "execute_result"
    }
   ],
   "source": [
    "y"
   ]
  },
  {
   "cell_type": "code",
   "execution_count": 99,
   "metadata": {},
   "outputs": [],
   "source": [
    "import matplotlib.pyplot as plt"
   ]
  },
  {
   "cell_type": "code",
   "execution_count": 100,
   "metadata": {},
   "outputs": [
    {
     "data": {
      "image/png": "[encoded data removed]",
      "text/plain": [
       "<Figure size 640x480 with 1 Axes>"
      ]
     },
     "metadata": {},
     "output_type": "display_data"
    }
   ],
   "source": [
    "plt.plot(y);"
   ]
  },
  {
   "cell_type": "markdown",
   "metadata": {},
   "source": [
    "## Question 12"
   ]
  },
  {
   "cell_type": "code",
   "execution_count": 101,
   "metadata": {},
   "outputs": [],
   "source": [
    "Synthetic_data.to_csv('new_synthetic_data.csv',index=False)"
   ]
  },
  {
   "cell_type": "markdown",
   "metadata": {},
   "source": [
    "## Question 13"
   ]
  },
  {
   "cell_type": "code",
   "execution_count": 102,
   "metadata": {},
   "outputs": [],
   "source": [
    "names = ['Alice', 'Bob', 'Charlie', 'David']\n",
    "ages = [25, 30, 35, 40]"
   ]
  },
  {
   "cell_type": "code",
   "execution_count": 103,
   "metadata": {},
   "outputs": [],
   "source": [
    "list_to_Dataframe=pd.DataFrame([names,ages])"
   ]
  },
  {
   "cell_type": "code",
   "execution_count": 104,
   "metadata": {},
   "outputs": [
    {
     "data": {
      "text/html": [
       "<div>\n",
       "<style scoped>\n",
       "    .dataframe tbody tr th:only-of-type {\n",
       "        vertical-align: middle;\n",
       "    }\n",
       "\n",
       "    .dataframe tbody tr th {\n",
       "        vertical-align: top;\n",
       "    }\n",
       "\n",
       "    .dataframe thead th {\n",
       "        text-align: right;\n",
       "    }\n",
       "</style>\n",
       "<table border=\"1\" class=\"dataframe\">\n",
       "  <thead>\n",
       "    <tr style=\"text-align: right;\">\n",
       "      <th></th>\n",
       "      <th>0</th>\n",
       "      <th>1</th>\n",
       "      <th>2</th>\n",
       "      <th>3</th>\n",
       "    </tr>\n",
       "  </thead>\n",
       "  <tbody>\n",
       "    <tr>\n",
       "      <th>0</th>\n",
       "      <td>Alice</td>\n",
       "      <td>Bob</td>\n",
       "      <td>Charlie</td>\n",
       "      <td>David</td>\n",
       "    </tr>\n",
       "    <tr>\n",
       "      <th>1</th>\n",
       "      <td>25</td>\n",
       "      <td>30</td>\n",
       "      <td>35</td>\n",
       "      <td>40</td>\n",
       "    </tr>\n",
       "  </tbody>\n",
       "</table>\n",
       "</div>"
      ],
      "text/plain": [
       "       0    1        2      3\n",
       "0  Alice  Bob  Charlie  David\n",
       "1     25   30       35     40"
      ]
     },
     "execution_count": 104,
     "metadata": {},
     "output_type": "execute_result"
    }
   ],
   "source": [
    "list_to_Dataframe"
   ]
  },
  {
   "cell_type": "markdown",
   "metadata": {},
   "source": [
    "## Question 14"
   ]
  },
  {
   "cell_type": "code",
   "execution_count": 105,
   "metadata": {},
   "outputs": [
    {
     "name": "stdout",
     "output_type": "stream",
     "text": [
      "[4, 16, 36, 64, 100, 144, 196, 256, 324, 400]\n"
     ]
    }
   ],
   "source": [
    "squares = [x**2 for x in range(1, 21) if x % 2 == 0]\n",
    "print(squares)"
   ]
  },
  {
   "cell_type": "markdown",
   "metadata": {},
   "source": [
    "## Question 15"
   ]
  },
  {
   "cell_type": "code",
   "execution_count": 106,
   "metadata": {},
   "outputs": [
    {
     "name": "stdout",
     "output_type": "stream",
     "text": [
      "[1, 3, 5, 7, 9, 11, 13, 15, 17, 19, 21, 23, 25, 27, 29, 31, 33, 35, 37, 39, 41, 43, 45, 47, 49]\n"
     ]
    }
   ],
   "source": [
    "odd_numbers = list(filter(lambda x: x % 2 != 0, range(1, 51)))\n",
    "print(odd_numbers)\n"
   ]
  },
  {
   "cell_type": "markdown",
   "metadata": {},
   "source": [
    "## Question 16"
   ]
  },
  {
   "cell_type": "code",
   "execution_count": 107,
   "metadata": {},
   "outputs": [
    {
     "name": "stdout",
     "output_type": "stream",
     "text": [
      "*\n",
      "**\n",
      "***\n",
      "****\n",
      "*****\n"
     ]
    }
   ],
   "source": [
    "for i in range(1, 6):\n",
    "     print(\"*\" * i)"
   ]
  },
  {
   "cell_type": "code",
   "execution_count": null,
   "metadata": {},
   "outputs": [],
   "source": []
  }
 ],
 "metadata": {
  "kernelspec": {
   "display_name": "Python 3",
   "language": "python",
   "name": "python3"
  },
  "language_info": {
   "codemirror_mode": {
    "name": "ipython",
    "version": 3
   },
   "file_extension": ".py",
   "mimetype": "text/x-python",
   "name": "python",
   "nbconvert_exporter": "python",
   "pygments_lexer": "ipython3",
   "version": "3.11.4"
  },
  "orig_nbformat": 4
 },
 "nbformat": 4,
 "nbformat_minor": 2
}
